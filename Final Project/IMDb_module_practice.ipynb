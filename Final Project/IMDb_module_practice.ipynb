{
 "nbformat": 4,
 "nbformat_minor": 2,
 "metadata": {
  "language_info": {
   "name": "python",
   "codemirror_mode": {
    "name": "ipython",
    "version": 3
   },
   "version": "3.7.4-final"
  },
  "orig_nbformat": 2,
  "file_extension": ".py",
  "mimetype": "text/x-python",
  "name": "python",
  "npconvert_exporter": "python",
  "pygments_lexer": "ipython3",
  "version": 3,
  "kernelspec": {
   "name": "python37464bit7ce9bcd6e9604f49a75ac00b61501ba1",
   "display_name": "Python 3.7.4 64-bit"
  }
 },
 "cells": [
  {
   "cell_type": "markdown",
   "execution_count": null,
   "metadata": {},
   "outputs": [],
   "source": [
    "# Testing imdb module"
   ]
  },
  {
   "cell_type": "markdown",
   "execution_count": null,
   "metadata": {},
   "outputs": [],
   "source": [
    "## import"
   ]
  },
  {
   "cell_type": "code",
   "execution_count": null,
   "metadata": {},
   "outputs": [],
   "source": [
    "from imdb import IMDb"
   ]
  },
  {
   "cell_type": "markdown",
   "execution_count": null,
   "metadata": {},
   "outputs": [],
   "source": [
    "\n",
    "## Create an instance of the IMDb class"
   ]
  },
  {
   "cell_type": "code",
   "execution_count": null,
   "metadata": {},
   "outputs": [],
   "source": [
    "ia = IMDb()"
   ]
  },
  {
   "cell_type": "markdown",
   "execution_count": null,
   "metadata": {},
   "outputs": [],
   "source": [
    "## Get a movie and print its director(s)"
   ]
  },
  {
   "cell_type": "code",
   "execution_count": null,
   "metadata": {},
   "outputs": [],
   "source": [
    "the_matrix = ia.get_movie('0133093')\n",
    "\n",
    "for director in the_matrix['directors']:\n",
    "    print(director['name'])"
   ]
  },
  {
   "cell_type": "markdown",
   "execution_count": null,
   "metadata": {},
   "outputs": [],
   "source": [
    "## Show all information sets that can be fetched for a movie"
   ]
  },
  {
   "cell_type": "code",
   "execution_count": null,
   "metadata": {},
   "outputs": [],
   "source": [
    "print(sorted(the_matrix.keys()))"
   ]
  },
  {
   "cell_type": "code",
   "execution_count": null,
   "metadata": {},
   "outputs": [],
   "source": [
    "for key in the_matrix.keys():\n",
    "    print(key)"
   ]
  },
  {
   "cell_type": "markdown",
   "execution_count": null,
   "metadata": {},
   "outputs": [],
   "source": [
    "## Show all information sets that can be fetched for a movie"
   ]
  },
  {
   "cell_type": "code",
   "execution_count": null,
   "metadata": {},
   "outputs": [],
   "source": [
    "print(ia.get_movie_infoset())"
   ]
  },
  {
   "cell_type": "markdown",
   "execution_count": null,
   "metadata": {},
   "outputs": [],
   "source": [
    "## Update a Movie object with more information"
   ]
  },
  {
   "cell_type": "code",
   "execution_count": null,
   "metadata": {},
   "outputs": [],
   "source": [
    "ia.update(the_matrix, ['technical']) #This updates your class instance with new info from IMDB"
   ]
  },
  {
   "cell_type": "markdown",
   "execution_count": null,
   "metadata": {},
   "outputs": [],
   "source": [
    "## Show which keys were added by the information set"
   ]
  },
  {
   "cell_type": "code",
   "execution_count": null,
   "metadata": {},
   "outputs": [],
   "source": [
    "print(the_matrix.infoset2keys['technical'])"
   ]
  },
  {
   "cell_type": "markdown",
   "metadata": {},
   "source": [
    "## Print one of the new keys"
   ]
  },
  {
   "cell_type": "code",
   "execution_count": 30,
   "metadata": {},
   "outputs": [
    {
     "name": "stdout",
     "output_type": "stream",
     "text": "{'runtime': ['2 hr 16 min (136 min)'], 'sound mix': ['DTS (Digital DTS Sound)', 'Dolby Digital', 'SDDS', 'Dolby Atmos'], 'color': ['Color'], 'aspect ratio': ['2.39 : 1'], 'camera': ['Arriflex 435, Panavision Primo Lenses', 'Panavision Panaflex Platinum, Panavision Primo Lenses', 'Panavision Panastar, Panavision Primo Lenses', 'Photosonics Camera'], 'laboratory': ['Technicolor, Hollywood (CA), USA (prints)', 'Atlab Film Laboratory Service, Sydney, Australia (color)'], 'film length': ['3,735 m (Sweden)'], 'negative format': ['35 mm (also horizontal) (Kodak Vision 200T 5274, Vision 500T 5279, Vision 800T 5289)'], 'cinematographic process': ['Super 35', 'VistaVision (effects shots)'], 'printed film format': ['35 mm (anamorphic) (Kodak Vision 2383)']}\n"
    }
   ],
   "source": [
    "print(the_matrix.get('tech'))"
   ]
  }
 ]
}