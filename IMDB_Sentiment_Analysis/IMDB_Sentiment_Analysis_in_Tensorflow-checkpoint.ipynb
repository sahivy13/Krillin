{
 "cells": [
  {
   "cell_type": "markdown",
   "metadata": {},
   "source": [
    "# IMDB Sentiment Analysis in Tensorflow"
   ]
  },
  {
   "cell_type": "markdown",
   "metadata": {},
   "source": [
    "## Importing modules"
   ]
  },
  {
   "cell_type": "code",
   "execution_count": 23,
   "metadata": {},
   "outputs": [],
   "source": [
    "import numpy as np\n",
    "import re\n",
    "import urllib.request as req \n",
    "import tarfile\n",
    "import os\n",
    "import zipfile\n",
    "from collections import defaultdict\n",
    "import tensorflow as tf"
   ]
  },
  {
   "cell_type": "markdown",
   "metadata": {},
   "source": [
    "## URL of database"
   ]
  },
  {
   "cell_type": "code",
   "execution_count": 2,
   "metadata": {},
   "outputs": [],
   "source": [
    "#URL\n",
    "imdb_url = 'https://ai.stanford.edu/~amaas/data/sentiment/aclImdb_v1.tar.gz'"
   ]
  },
  {
   "cell_type": "markdown",
   "metadata": {},
   "source": [
    "## Creating files and folders from dataset"
   ]
  },
  {
   "cell_type": "code",
   "execution_count": 3,
   "metadata": {},
   "outputs": [],
   "source": [
    "save_filename = 'aclImdb_v1.tar.gz'\n",
    "\n",
    "if not os.path.exists(save_filename):\n",
    "    req.urlretrieve(imdb_url, save_filename)\n",
    "    \n",
    "imdb_folder = 'aclImdb'\n",
    "\n",
    "if not os.path.exists(imdb_folder):\n",
    "    with tarfile.open(save_filename) as tar:\n",
    "        tar.extractall()"
   ]
  },
  {
   "cell_type": "markdown",
   "metadata": {},
   "source": [
    "## Creating fuction to get all reviews"
   ]
  },
  {
   "cell_type": "code",
   "execution_count": 4,
   "metadata": {},
   "outputs": [],
   "source": [
    "#This function gets all reviews and cleans each one into words\n",
    "\n",
    "def get_reviews(data_folder = '/train'):\n",
    "    reviews=[]\n",
    "    labels=[]\n",
    "    for index, sentiment in enumerate(['/neg/', '/pos/']):\n",
    "        path = imdb_folder + data_folder + sentiment\n",
    "        for filename in sorted(os.listdir(path)):\n",
    "            with open(path + filename, 'r') as f:\n",
    "                review = f.read()\n",
    "                review = review.lower()\n",
    "                review = review.replace('<br />', ' ')\n",
    "                review = re.sub(r\"[^a-z]\",\" \", review)\n",
    "                review = re.sub(r\" +\",\" \", review)\n",
    "                review = review.split(\" \")\n",
    "                reviews.append(review)\n",
    "                \n",
    "                label = [0, 0]\n",
    "                label[index] = 1\n",
    "                labels.append(label)\n",
    "    \n",
    "    return reviews, np.array(labels)\n",
    "                "
   ]
  },
  {
   "cell_type": "markdown",
   "metadata": {},
   "source": [
    "## Creating training data"
   ]
  },
  {
   "cell_type": "code",
   "execution_count": 5,
   "metadata": {},
   "outputs": [],
   "source": [
    "train_reviews, train_labels = get_reviews()"
   ]
  },
  {
   "cell_type": "code",
   "execution_count": 6,
   "metadata": {},
   "outputs": [
    {
     "name": "stdout",
     "output_type": "stream",
     "text": [
      "25000\n",
      "['story', 'of', 'a', 'man', 'who', 'has', 'unnatural', 'feelings', 'for', 'a', 'pig', 'starts', 'out', 'with', 'a', 'opening', 'scene', 'that', 'is', 'a', 'terrific', 'example', 'of', 'absurd', 'comedy', 'a', 'formal', 'orchestra', 'audience', 'is', 'turned', 'into', 'an', 'insane', 'violent', 'mob', 'by', 'the', 'crazy', 'chantings', 'of', 'it', 's', 'singers', 'unfortunately', 'it', 'stays', 'absurd', 'the', 'whole', 'time', 'with', 'no', 'general', 'narrative', 'eventually', 'making', 'it', 'just', 'too', 'off', 'putting', 'even', 'those', 'from', 'the', 'era', 'should', 'be', 'turned', 'off', 'the', 'cryptic', 'dialogue', 'would', 'make', 'shakespeare', 'seem', 'easy', 'to', 'a', 'third', 'grader', 'on', 'a', 'technical', 'level', 'it', 's', 'better', 'than', 'you', 'might', 'think', 'with', 'some', 'good', 'cinematography', 'by', 'future', 'great', 'vilmos', 'zsigmond', 'future', 'stars', 'sally', 'kirkland', 'and', 'frederic', 'forrest', 'can', 'be', 'seen', 'briefly', '']\n",
      "[1 0]\n"
     ]
    }
   ],
   "source": [
    "print(len(train_reviews))\n",
    "print(train_reviews[0])\n",
    "print(train_labels[0])\n"
   ]
  },
  {
   "cell_type": "markdown",
   "metadata": {},
   "source": [
    "## Embedding words\n",
    "\n",
    "Since Neural Networks works better with numbers rather than words, we need to embed this words into integers.\n",
    "\n",
    "We will use GloVe: Global Vectors for Word Representation\n"
   ]
  },
  {
   "cell_type": "code",
   "execution_count": 7,
   "metadata": {},
   "outputs": [],
   "source": [
    "glove_url = 'http://nlp.stanford.edu/data/glove.6B.zip'"
   ]
  },
  {
   "cell_type": "code",
   "execution_count": 8,
   "metadata": {},
   "outputs": [],
   "source": [
    "save_filename = 'glove.6B.zip'\n",
    "\n",
    "if not os.path.exists(save_filename):\n",
    "    req.urlretrieve(glove_url, save_filename)\n",
    "    \n",
    "embedding_size = 50\n",
    "\n",
    "glove_filename = f'glove.6B.{embedding_size}d.txt'\n",
    "\n",
    "if not os.path.exists(glove_filename) and embedding_size in [50, 100, 200, 300]:\n",
    "    with zipfile.ZipFile(save_filename, 'r') as z:\n",
    "        z.extractall()"
   ]
  },
  {
   "cell_type": "code",
   "execution_count": 9,
   "metadata": {},
   "outputs": [],
   "source": [
    "def load_embeddings():\n",
    "    with open(glove_filename, 'r') as glove_vectors:\n",
    "        word_to_int = defaultdict(int)\n",
    "        int_to_vec = defaultdict(lambda: np.zeros([embedding_size]))\n",
    "        \n",
    "        index = 1\n",
    "        for line in glove_vectors:\n",
    "            fields = line.split()\n",
    "            word = str(fields[0])\n",
    "            vec = np.asarray(fields[1:], np.float32)\n",
    "            word_to_int[word] = index\n",
    "            int_to_vec[index] = vec\n",
    "            \n",
    "            index += 1\n",
    "            \n",
    "    return word_to_int, int_to_vec"
   ]
  },
  {
   "cell_type": "code",
   "execution_count": 10,
   "metadata": {},
   "outputs": [],
   "source": [
    "word_to_int, int_to_vec = load_embeddings()"
   ]
  },
  {
   "cell_type": "code",
   "execution_count": 11,
   "metadata": {},
   "outputs": [],
   "source": [
    "def review_words_to_ints(train_review):\n",
    "    train_data=[]\n",
    "    for review in train_reviews:\n",
    "        int_review = [word_to_int[word] for word in review]\n",
    "        train_data.append(int_review)\n",
    "    return train_data"
   ]
  },
  {
   "cell_type": "code",
   "execution_count": 12,
   "metadata": {},
   "outputs": [
    {
     "name": "stdout",
     "output_type": "stream",
     "text": [
      "[524, 4, 8, 301, 39, 32, 28639, 5045, 11, 8, 9611, 2384, 67, 18, 8, 876, 1501, 13, 15, 8, 11026, 881, 4, 12414, 2842, 8, 2725, 4079, 2053, 15, 853, 76, 30, 14917, 2529, 7632, 22, 1, 5579, 0, 4, 21, 1535, 7793, 4717, 21, 7888, 12414, 1, 1116, 80, 18, 85, 217, 8040, 1182, 434, 21, 121, 318, 139, 2221, 152, 156, 26, 1, 1593, 190, 31, 853, 139, 1, 29298, 2470, 55, 160, 7478, 1915, 1674, 5, 8, 246, 20156, 14, 8, 2027, 506, 21, 1535, 440, 74, 82, 415, 270, 18, 78, 220, 22182, 22, 582, 354, 107311, 127384, 582, 1570, 10946, 23761, 6, 15679, 16084, 87, 31, 542, 3443, 0]\n"
     ]
    }
   ],
   "source": [
    "train_reviews = review_words_to_ints(train_reviews)\n",
    "print(train_reviews[0])"
   ]
  },
  {
   "cell_type": "markdown",
   "metadata": {},
   "source": [
    "## distribution plot of reviews by length of each review"
   ]
  },
  {
   "cell_type": "code",
   "execution_count": 15,
   "metadata": {},
   "outputs": [
    {
     "data": {
      "text/plain": [
       "<matplotlib.axes._subplots.AxesSubplot at 0x1135b5810>"
      ]
     },
     "execution_count": 15,
     "metadata": {},
     "output_type": "execute_result"
    },
    {
     "data": {
      "image/png": "[encoded data removed]",
      "text/plain": [
       "<Figure size 432x288 with 1 Axes>"
      ]
     },
     "metadata": {
      "needs_background": "light"
     },
     "output_type": "display_data"
    }
   ],
   "source": [
    "import seaborn as sns\n",
    "\n",
    "train_reviews_lens = [len(review) for review in train_reviews]\n",
    "sns.distplot(train_reviews_lens)"
   ]
  },
  {
   "cell_type": "code",
   "execution_count": 14,
   "metadata": {},
   "outputs": [],
   "source": [
    "max_review_len = 500 #max length of each review"
   ]
  },
  {
   "cell_type": "code",
   "execution_count": 16,
   "metadata": {},
   "outputs": [],
   "source": [
    "def zero_pad_reviews(train_reviews):\n",
    "    train_data_padded = []\n",
    "    for review in train_reviews:\n",
    "        padded = [0] * max_review_len\n",
    "        stop_index = min(len(review), max_review_len)\n",
    "        padded[:stop_index] = review[:stop_index]\n",
    "        train_data_padded.append(padded)\n",
    "    return train_data_padded\n",
    "        "
   ]
  },
  {
   "cell_type": "code",
   "execution_count": 17,
   "metadata": {},
   "outputs": [],
   "source": [
    "train_reviews = zero_pad_reviews(train_reviews)"
   ]
  },
  {
   "cell_type": "code",
   "execution_count": 20,
   "metadata": {},
   "outputs": [
    {
     "name": "stdout",
     "output_type": "stream",
     "text": [
      "[524, 4, 8, 301, 39, 32, 28639, 5045, 11, 8, 9611, 2384, 67, 18, 8, 876, 1501, 13, 15, 8, 11026, 881, 4, 12414, 2842, 8, 2725, 4079, 2053, 15, 853, 76, 30, 14917, 2529, 7632, 22, 1, 5579, 0, 4, 21, 1535, 7793, 4717, 21, 7888, 12414, 1, 1116, 80, 18, 85, 217, 8040, 1182, 434, 21, 121, 318, 139, 2221, 152, 156, 26, 1, 1593, 190, 31, 853, 139, 1, 29298, 2470, 55, 160, 7478, 1915, 1674, 5, 8, 246, 20156, 14, 8, 2027, 506, 21, 1535, 440, 74, 82, 415, 270, 18, 78, 220, 22182, 22, 582, 354, 107311, 127384, 582, 1570, 10946, 23761, 6, 15679, 16084, 87, 31, 542, 3443, 0, 0, 0, 0, 0, 0, 0, 0, 0, 0, 0, 0, 0, 0, 0, 0, 0, 0, 0, 0, 0, 0, 0, 0, 0, 0, 0, 0, 0, 0, 0, 0, 0, 0, 0, 0, 0, 0, 0, 0, 0, 0, 0, 0, 0, 0, 0, 0, 0, 0, 0, 0, 0, 0, 0, 0, 0, 0, 0, 0, 0, 0, 0, 0, 0, 0, 0, 0, 0, 0, 0, 0, 0, 0, 0, 0, 0, 0, 0, 0, 0, 0, 0, 0, 0, 0, 0, 0, 0, 0, 0, 0, 0, 0, 0, 0, 0, 0, 0, 0, 0, 0, 0, 0, 0, 0, 0, 0, 0, 0, 0, 0, 0, 0, 0, 0, 0, 0, 0, 0, 0, 0, 0, 0, 0, 0, 0, 0, 0, 0, 0, 0, 0, 0, 0, 0, 0, 0, 0, 0, 0, 0, 0, 0, 0, 0, 0, 0, 0, 0, 0, 0, 0, 0, 0, 0, 0, 0, 0, 0, 0, 0, 0, 0, 0, 0, 0, 0, 0, 0, 0, 0, 0, 0, 0, 0, 0, 0, 0, 0, 0, 0, 0, 0, 0, 0, 0, 0, 0, 0, 0, 0, 0, 0, 0, 0, 0, 0, 0, 0, 0, 0, 0, 0, 0, 0, 0, 0, 0, 0, 0, 0, 0, 0, 0, 0, 0, 0, 0, 0, 0, 0, 0, 0, 0, 0, 0, 0, 0, 0, 0, 0, 0, 0, 0, 0, 0, 0, 0, 0, 0, 0, 0, 0, 0, 0, 0, 0, 0, 0, 0, 0, 0, 0, 0, 0, 0, 0, 0, 0, 0, 0, 0, 0, 0, 0, 0, 0, 0, 0, 0, 0, 0, 0, 0, 0, 0, 0, 0, 0, 0, 0, 0, 0, 0, 0, 0, 0, 0, 0, 0, 0, 0, 0, 0, 0, 0, 0, 0, 0, 0, 0, 0, 0, 0, 0, 0, 0, 0, 0, 0, 0, 0, 0, 0, 0, 0, 0, 0, 0, 0, 0, 0, 0, 0, 0, 0, 0, 0, 0, 0, 0, 0, 0, 0, 0, 0, 0, 0, 0, 0, 0, 0, 0, 0, 0, 0, 0, 0, 0, 0, 0, 0, 0, 0, 0, 0, 0, 0, 0, 0, 0, 0, 0, 0, 0, 0, 0, 0, 0, 0, 0, 0, 0, 0, 0, 0, 0, 0, 0, 0, 0, 0, 0, 0, 0]\n"
     ]
    }
   ],
   "source": [
    "print(train_reviews[0])"
   ]
  },
  {
   "cell_type": "code",
   "execution_count": 21,
   "metadata": {},
   "outputs": [],
   "source": [
    "def review_ints_to_vecs(train_review):\n",
    "    train_data=[]\n",
    "    for review in train_reviews:\n",
    "        vec_review = [int_to_vec[word] for word in review]\n",
    "        train_data.append(vec_review)\n",
    "    return train_data"
   ]
  },
  {
   "cell_type": "code",
   "execution_count": 22,
   "metadata": {},
   "outputs": [
    {
     "name": "stdout",
     "output_type": "stream",
     "text": [
      "(25000, 500, 50)\n"
     ]
    }
   ],
   "source": [
    "train_reviews = np.array(review_ints_to_vecs(train_reviews))\n",
    "print(train_reviews.shape)"
   ]
  },
  {
   "cell_type": "code",
   "execution_count": 24,
   "metadata": {},
   "outputs": [],
   "source": [
    "def define_graph(output_size = 2, l_rate = 0.001):\n",
    "    X = tf.placeholder(tf.float32, [None, max_review_len, embedding_size])\n",
    "    Y = tf.placeholder(tf.int32, [None, output_size])\n",
    "    keep_prob = tf.placeholder_with_default(1.0, shape = ())\n",
    "    \n",
    "    rnn = tf.contrib.rnn.GRUCe11(125, activation = tf.nn.relu)\n",
    "    drop0 = tf.contrib.rnn.DropoutWrapper(rnn, output_keep_prob = keep_prob)\n",
    "    outputs, final = tf.nn.dynamic_rnn(drop0, X, dtype = tf.float32)\n",
    "    dense = tf.layers.dense(outputs[:,-1], 100, activation = tf.nn.relu)\n",
    "    drop1 = tf.layers.dropout(dense, rate = 1-keep_prob)\n",
    "    logits = tf.layers.dense(drop1, output_size, activation =None)\n",
    "    \n",
    "    error = tf.nn.softmax_cross_entropy_with_logits_v2(logits = logits, labels = Y)\n",
    "    loss = tf.reduce_sum(error)\n",
    "    optimizer = tf.train.AdamOptimizer(learning_rate = l_rate).minimize(loss)\n",
    "    \n",
    "    preds = tf.nn.softmax(logits)\n",
    "    correct = tf.equal(tf.argmax(preds, axis = 1), tf.argmax(Y, axis = 1))\n",
    "    accuracy = tf.reduce_mean(tf.cast(correct, tf.float32))\n",
    "    \n",
    "    return X, Y, keep_prob, optimizer, loss, accuracy\n"
   ]
  },
  {
   "cell_type": "markdown",
   "metadata": {},
   "source": [
    "## Splitting training set"
   ]
  },
  {
   "cell_type": "markdown",
   "metadata": {},
   "source": [
    "### First we will be creating a permutation list of the indexes that takes an equal amount of bad and good sentiments"
   ]
  },
  {
   "cell_type": "code",
   "execution_count": 25,
   "metadata": {},
   "outputs": [],
   "source": [
    "permutation = [(i//2)+12500*(i%2) for i in range(len(train_reviews))]"
   ]
  },
  {
   "cell_type": "code",
   "execution_count": 26,
   "metadata": {},
   "outputs": [],
   "source": [
    "train_reviews = train_reviews[permutation]"
   ]
  },
  {
   "cell_type": "code",
   "execution_count": 27,
   "metadata": {},
   "outputs": [],
   "source": [
    "train_labels = train_labels[permutation]"
   ]
  },
  {
   "cell_type": "markdown",
   "metadata": {},
   "source": [
    "### Choosing size of training data"
   ]
  },
  {
   "cell_type": "code",
   "execution_count": 28,
   "metadata": {},
   "outputs": [],
   "source": [
    "validation_size = 1000"
   ]
  },
  {
   "cell_type": "code",
   "execution_count": 29,
   "metadata": {},
   "outputs": [],
   "source": [
    "train_size = len(train_reviews) - validation_size"
   ]
  },
  {
   "cell_type": "markdown",
   "metadata": {},
   "source": [
    "### Splitting and validating"
   ]
  },
  {
   "cell_type": "code",
   "execution_count": 31,
   "metadata": {},
   "outputs": [],
   "source": [
    "X_train = train_reviews[:train_size]\n",
    "y_train = train_labels[:train_size]\n",
    "X_val = train_reviews[train_size:]\n",
    "y_val = train_labels[train_size:]"
   ]
  },
  {
   "cell_type": "code",
   "execution_count": 32,
   "metadata": {},
   "outputs": [
    {
     "name": "stdout",
     "output_type": "stream",
     "text": [
      "(24000, 500, 50)\n",
      "(24000, 2)\n",
      "(1000, 500, 50)\n",
      "(1000, 2)\n"
     ]
    }
   ],
   "source": [
    "print(X_train.shape)\n",
    "print(y_train.shape)\n",
    "print(X_val.shape)\n",
    "print(y_val.shape)"
   ]
  },
  {
   "cell_type": "code",
   "execution_count": null,
   "metadata": {},
   "outputs": [],
   "source": [
    "batch_size = 50\n",
    "\n",
    "num_samples = len(X_train)\n",
    "num_batches = int(num_samples//batch_size)\n",
    "\n",
    "accT = []\n",
    "accV = []\n",
    "\n",
    "tf.reset_default_graph()\n",
    "X, Y, keep_prob, optimizer, loss, accuracy = define_graph()\n",
    "\n",
    "with tf.Session() as sess:\n",
    "    sess.run(tf.global_variables_initializer())\n",
    "    \n",
    "    for epoch in range(8):\n",
    "        for i in range(0, num_samples, batch_size):\n",
    "            X_train_batch = X_train[i:i+batch_size]\n",
    "            y_train_batch = y_train[i:i+batch_size]\n",
    "            \n",
    "            _, train_loss, train_acc = sess.run(\n",
    "                [optimizer, loss, accuracy],\n",
    "                feed_dict = {\n",
    "                    X:X_train_batch,\n",
    "                    Y:y_train_batch,\n",
    "                    keep_prob:0.5\n",
    "                }\n",
    "            )\n",
    "            \n",
    "            if(i%1000) == 0:\n",
    "                val_acc = sess.run(\n",
    "                    accuracy, \n",
    "                    feed_dict = {\n",
    "                        X:X_val,\n",
    "                        Y:y_val\n",
    "                    }\n",
    "                )\n",
    "                \n",
    "                print(\n",
    "                    \"Epoch {0}:{1:2d}, Train loss: {2:2.2f}, Train acc: {3:.3f}, Val acc: {4:.3f}\".format(\n",
    "                        epoch,\n",
    "                        i//1000,\n",
    "                        train_loss,\n",
    "                        train_acc,\n",
    "                        val_acc\n",
    "                    )\n",
    "                )\n",
    "                \n",
    "                accT.append(train_acc)\n",
    "                accV.append(val_acc)\n",
    "            "
   ]
  }
 ],
 "metadata": {
  "kernelspec": {
   "display_name": "Python 3",
   "language": "python",
   "name": "python3"
  },
  "language_info": {
   "codemirror_mode": {
    "name": "ipython",
    "version": 3
   },
   "file_extension": ".py",
   "mimetype": "text/x-python",
   "name": "python",
   "nbconvert_exporter": "python",
   "pygments_lexer": "ipython3",
   "version": "3.7.4"
  },
  "toc": {
   "base_numbering": 1,
   "nav_menu": {},
   "number_sections": true,
   "sideBar": true,
   "skip_h1_title": false,
   "title_cell": "Table of Contents",
   "title_sidebar": "Contents",
   "toc_cell": false,
   "toc_position": {},
   "toc_section_display": true,
   "toc_window_display": false
  }
 },
 "nbformat": 4,
 "nbformat_minor": 2
}
