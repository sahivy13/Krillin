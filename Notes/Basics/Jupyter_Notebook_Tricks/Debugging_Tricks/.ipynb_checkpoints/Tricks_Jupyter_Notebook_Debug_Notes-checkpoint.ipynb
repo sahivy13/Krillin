{
 "cells": [
  {
   "cell_type": "markdown",
   "metadata": {},
   "source": [
    "# Jupyter Notebook \"tricks\" for debugging"
   ]
  },
  {
   "cell_type": "markdown",
   "metadata": {},
   "source": [
    "##  `%debug~`\n",
    "\n",
    "- Will take you directly to line and variable that needs to be fixed\n",
    "- Allows you to input value that would fix bug\n",
    "\n",
    "The easiest way to debug a Jupyter notebook is to use the **%debug** magic command. Whenever you encounter an error or exception, just open a new notebook cell, type `%debug` and run the cell. This will open a command line where you can test your code and inspect all variables right up to the line that threw the error.\n",
    "\n",
    "**Type the following for commands**\n",
    "\n",
    "- **n**: press it and hit Enter to run the **next line** of code \n",
    "\n",
    "    - (The → arrow shows you the current position)\n",
    "\n",
    "- **c**: press it to continue until the next breakpoint\n",
    "\n",
    "- **q**: press it to quit the debugger and code execution"
   ]
  },
  {
   "cell_type": "code",
   "execution_count": 5,
   "metadata": {},
   "outputs": [],
   "source": [
    "#Test\n",
    "\n",
    "def saiyan_Scouter(power_level = 50):\n",
    "    if power_level > 9000:\n",
    "        raise ValueError(\n",
    "            \"Power level: Scanning... Calculating... 8k... wait... 9k... IT'S OVER 9000!!!\"\n",
    "        )\n",
    "    else:\n",
    "        print(f\"HAHAHA!!! your power level is {power_level}... how PATHETIC!!!\")"
   ]
  },
  {
   "cell_type": "code",
   "execution_count": 14,
   "metadata": {},
   "outputs": [
    {
     "ename": "ValueError",
     "evalue": "Power level: Scanning... Calculating... 8k... wait... 9k... IT'S OVER 9000!!!",
     "output_type": "error",
     "traceback": [
      "\u001b[0;31m---------------------------------------------------------------------------\u001b[0m",
      "\u001b[0;31mValueError\u001b[0m                                Traceback (most recent call last)",
      "\u001b[0;32m<ipython-input-14-307a227ed9fe>\u001b[0m in \u001b[0;36m<module>\u001b[0;34m\u001b[0m\n\u001b[1;32m      3\u001b[0m \u001b[0mkrillin\u001b[0m \u001b[0;34m=\u001b[0m \u001b[0;36m4000\u001b[0m\u001b[0;34m\u001b[0m\u001b[0;34m\u001b[0m\u001b[0m\n\u001b[1;32m      4\u001b[0m \u001b[0;34m\u001b[0m\u001b[0m\n\u001b[0;32m----> 5\u001b[0;31m \u001b[0msaiyan_Scouter\u001b[0m\u001b[0;34m(\u001b[0m\u001b[0mpower_level\u001b[0m \u001b[0;34m=\u001b[0m \u001b[0mgoku\u001b[0m\u001b[0;34m)\u001b[0m\u001b[0;34m\u001b[0m\u001b[0;34m\u001b[0m\u001b[0m\n\u001b[0m",
      "\u001b[0;32m<ipython-input-5-d7918bc186d6>\u001b[0m in \u001b[0;36msaiyan_Scouter\u001b[0;34m(power_level)\u001b[0m\n\u001b[1;32m      4\u001b[0m     \u001b[0;32mif\u001b[0m \u001b[0mpower_level\u001b[0m \u001b[0;34m>\u001b[0m \u001b[0;36m9000\u001b[0m\u001b[0;34m:\u001b[0m\u001b[0;34m\u001b[0m\u001b[0;34m\u001b[0m\u001b[0m\n\u001b[1;32m      5\u001b[0m         raise ValueError(\n\u001b[0;32m----> 6\u001b[0;31m             \u001b[0;34m\"Power level: Scanning... Calculating... 8k... wait... 9k... IT'S OVER 9000!!!\"\u001b[0m\u001b[0;34m\u001b[0m\u001b[0;34m\u001b[0m\u001b[0m\n\u001b[0m\u001b[1;32m      7\u001b[0m         )\n\u001b[1;32m      8\u001b[0m     \u001b[0;32melse\u001b[0m\u001b[0;34m:\u001b[0m\u001b[0;34m\u001b[0m\u001b[0;34m\u001b[0m\u001b[0m\n",
      "\u001b[0;31mValueError\u001b[0m: Power level: Scanning... Calculating... 8k... wait... 9k... IT'S OVER 9000!!!"
     ]
    }
   ],
   "source": [
    "goku = 9500\n",
    "\n",
    "krillin = 4000\n",
    "\n",
    "saiyan_Scouter(power_level = goku)"
   ]
  },
  {
   "cell_type": "code",
   "execution_count": 15,
   "metadata": {
    "scrolled": false
   },
   "outputs": [
    {
     "name": "stdout",
     "output_type": "stream",
     "text": [
      "> \u001b[0;32m<ipython-input-5-d7918bc186d6>\u001b[0m(6)\u001b[0;36msaiyan_Scouter\u001b[0;34m()\u001b[0m\n",
      "\u001b[0;32m      4 \u001b[0;31m    \u001b[0;32mif\u001b[0m \u001b[0mpower_level\u001b[0m \u001b[0;34m>\u001b[0m \u001b[0;36m9000\u001b[0m\u001b[0;34m:\u001b[0m\u001b[0;34m\u001b[0m\u001b[0;34m\u001b[0m\u001b[0m\n",
      "\u001b[0m\u001b[0;32m      5 \u001b[0;31m        raise ValueError(\n",
      "\u001b[0m\u001b[0;32m----> 6 \u001b[0;31m            \u001b[0;34m\"Power level: Scanning... Calculating... 8k... wait... 9k... IT'S OVER 9000!!!\"\u001b[0m\u001b[0;34m\u001b[0m\u001b[0;34m\u001b[0m\u001b[0m\n",
      "\u001b[0m\u001b[0;32m      7 \u001b[0;31m        )\n",
      "\u001b[0m\u001b[0;32m      8 \u001b[0;31m    \u001b[0;32melse\u001b[0m\u001b[0;34m:\u001b[0m\u001b[0;34m\u001b[0m\u001b[0;34m\u001b[0m\u001b[0m\n",
      "\u001b[0m\n",
      "ipdb> saiyan_Scouter(power_level = krillin)\n",
      "HAHAHA!!! your power level is 4000... how PATHETIC!!!\n",
      "ipdb> q\n"
     ]
    }
   ],
   "source": [
    "%debug"
   ]
  },
  {
   "cell_type": "markdown",
   "metadata": {},
   "source": [
    "## `set_trace`\n",
    "\n",
    "Although not quite up to par with the functionality of the debuggers in IDEs like Pycharm or Visual Studio Code, the **iPython debugger** is another great option. \n",
    "\n",
    "Import it and use set_trace() anywhere in your notebook to create one or multiple breakpoints.\n",
    "\n",
    "When executing a cell, it will stop at the first breakpoint and open the command line for code inspection. \n",
    "\n",
    "You can also set breakpoints in the code of imported modules, but don’t forget to import the debugger in there as well.\n",
    "\n",
    "**Type the following for commands**\n",
    "\n",
    "- **n**: press it and hit Enter to run the **next line** of code \n",
    "\n",
    "    - (The → arrow shows you the current position)\n",
    "\n",
    "- **c**: press it to continue until the next breakpoint\n",
    "\n",
    "- **q**: press it to quit the debugger and code execution"
   ]
  },
  {
   "cell_type": "code",
   "execution_count": 17,
   "metadata": {},
   "outputs": [
    {
     "name": "stdout",
     "output_type": "stream",
     "text": [
      "--Return--\n",
      "None\n",
      "> \u001b[0;32m<ipython-input-17-fe5ce50d0261>\u001b[0m(5)\u001b[0;36m<module>\u001b[0;34m()\u001b[0m\n",
      "\u001b[0;32m      3 \u001b[0;31m\u001b[0mfirst\u001b[0m \u001b[0;34m=\u001b[0m \u001b[0;36m5\u001b[0m\u001b[0;34m\u001b[0m\u001b[0;34m\u001b[0m\u001b[0m\n",
      "\u001b[0m\u001b[0;32m      4 \u001b[0;31m\u001b[0msecond\u001b[0m \u001b[0;34m=\u001b[0m \u001b[0;36m3\u001b[0m\u001b[0;34m\u001b[0m\u001b[0;34m\u001b[0m\u001b[0m\n",
      "\u001b[0m\u001b[0;32m----> 5 \u001b[0;31m\u001b[0mset_trace\u001b[0m\u001b[0;34m(\u001b[0m\u001b[0;34m)\u001b[0m\u001b[0;34m\u001b[0m\u001b[0;34m\u001b[0m\u001b[0m\n",
      "\u001b[0m\u001b[0;32m      6 \u001b[0;31m\u001b[0mresults\u001b[0m \u001b[0;34m=\u001b[0m \u001b[0mfirst\u001b[0m \u001b[0;34m+\u001b[0m \u001b[0msecond\u001b[0m\u001b[0;34m\u001b[0m\u001b[0;34m\u001b[0m\u001b[0m\n",
      "\u001b[0m\u001b[0;32m      7 \u001b[0;31m\u001b[0mprint\u001b[0m\u001b[0;34m(\u001b[0m\u001b[0mresults\u001b[0m\u001b[0;34m)\u001b[0m\u001b[0;34m\u001b[0m\u001b[0;34m\u001b[0m\u001b[0m\n",
      "\u001b[0m\n",
      "ipdb> first = 8\n",
      "ipdb> c\n",
      "11\n"
     ]
    }
   ],
   "source": [
    "from IPython.core.debugger import set_trace\n",
    "\n",
    "first = 5\n",
    "second = 3\n",
    "set_trace()\n",
    "results = first + second\n",
    "print(results)"
   ]
  },
  {
   "cell_type": "markdown",
   "metadata": {},
   "source": [
    "## \"PixieDebugger\"\n",
    "\n",
    "- Relatively new (Date of post: Aug 12, 2018)\n",
    "- Project wants to offer the “Visual Python Debugger for Jupyter Notebooks You’ve Always Wanted”\n",
    "- LOOK INTO IT"
   ]
  },
  {
   "cell_type": "markdown",
   "metadata": {},
   "source": [
    "## Recall cells that accidently was deleted"
   ]
  },
  {
   "cell_type": "code",
   "execution_count": 4,
   "metadata": {},
   "outputs": [
    {
     "data": {
      "text/plain": [
       "['',\n",
       " '#Test\\n\\ndef saiyan_Scouter(power_level = 50):\\n    if power_level > 9000:\\n        raise ValueError(\\n            \"Power level: Scanning... Calculating... 8k... wait... 9k... IT\\'S OVER 9000!!!\"\\n        )',\n",
       " 'saiyan_Scouter(power_level= 9001)',\n",
       " '_ih[-1:]',\n",
       " '_ih[-5:]']"
      ]
     },
     "execution_count": 4,
     "metadata": {},
     "output_type": "execute_result"
    }
   ],
   "source": [
    "_ih[-5:] # [# of cells executed back :]"
   ]
  },
  {
   "cell_type": "markdown",
   "metadata": {},
   "source": [
    "## Autoreload imports\n",
    "\n",
    "If you edit the code of an imported module or package, you usually need to restart the notebook kernel or use reload() on the specific module. That can be quite annoying. With the **autoreload** magic command, modules are automatically reloaded before any of their code is executed.\n",
    "\n",
    "- **%lsmagic**: Run this in a cell to list all available IPython magics\n",
    "- **Zen mode extension**: removes the menus for less distractions\n",
    "- **Execute time extension**: shows how long a cell took to run\n",
    "- **autoreload**: Autoreloads external files without having to restart the notebook. \n",
    "\n",
    "**To enable it:**"
   ]
  },
  {
   "cell_type": "code",
   "execution_count": null,
   "metadata": {},
   "outputs": [],
   "source": [
    "%load_ext autoreload\n",
    "%autoreload 2"
   ]
  },
  {
   "cell_type": "markdown",
   "metadata": {},
   "source": [
    "## "
   ]
  }
 ],
 "metadata": {
  "kernelspec": {
   "display_name": "Python 3",
   "language": "python",
   "name": "python3"
  }
 },
 "nbformat": 4,
 "nbformat_minor": 2
}
