{
 "metadata": {
  "language_info": {
   "codemirror_mode": {
    "name": "ipython",
    "version": 3
   },
   "file_extension": ".py",
   "mimetype": "text/x-python",
   "name": "python",
   "nbconvert_exporter": "python",
   "pygments_lexer": "ipython3",
   "version": "3.7.4-final"
  },
  "orig_nbformat": 2,
  "kernelspec": {
   "name": "python37464bit7ce9bcd6e9604f49a75ac00b61501ba1",
   "display_name": "Python 3.7.4 64-bit"
  }
 },
 "nbformat": 4,
 "nbformat_minor": 2,
 "cells": [
  {
   "cell_type": "markdown",
   "metadata": {},
   "source": [
    "# Convolutional Neural Networks (CNNs) Intro\n",
    "\n",
    "This introduces convolutional layers to the basic neural network model. Usually you have a mix of convolutional layers with dense layers (or what PyTorch calls linear layers).\n",
    "\n",
    "Typically, CNNs are used for image tasks. Although in recent years (current year being 2020), CNNs seems to be outperforming recurrent neural networks (RNNs) for handling sequential type of data.\n",
    "\n",
    "In this intro, we will be looking at image data.\n",
    "\n",
    "Unlike a typical dense layered NN, we can pass the image as is without having to flatten it. this includes 3D images.\n",
    "\n",
    "The concept is that the convolutional layer will look for features in a kernel (a window of pixels from the image. for example, we could set the kernel to be a 3 pixel by 3 pixel for a 2D image of 100 pixels by 100 pixels). these features in the first convolutional layer could be edges, curves, and corners. then on the second layer, the features would be things that the patterns found on the first layer would build like circles, squares, etc. This process is called a convolution.\n",
    "\n",
    "Once this is done on one kernel, the kernel slides through the image at set steps until it has gone through the entire image. ultimately condencing the image.\n",
    "\n",
    "After the image is condenced, then pooling is done on the condenced data. the most common form of pooling is max pooling, which refers to extracting the maximum value of a kernel on the condenced data. Then as previously it done, the kernel will slide over the entire image until it has pooled the entire image.\n",
    "\n",
    "## \n",
    "\n"
   ]
  },
  {
   "cell_type": "code",
   "execution_count": 4,
   "metadata": {},
   "outputs": [],
   "source": [
    "import os\n",
    "import cv2\n",
    "import numpy as np\n",
    "from tqdm import tqdm"
   ]
  },
  {
   "cell_type": "code",
   "execution_count": 5,
   "metadata": {},
   "outputs": [],
   "source": [
    "REBUILD_DATA = False # This is True if we need to rebuild the data, and false if we have already built it."
   ]
  },
  {
   "cell_type": "code",
   "execution_count": 8,
   "metadata": {
    "tags": []
   },
   "outputs": [
    {
     "output_type": "stream",
     "name": "stderr",
     "text": "100%|██████████| 12501/12501 [00:28<00:00, 436.85it/s]\n100%|██████████| 12501/12501 [00:38<00:00, 328.41it/s]\nCats:  12476\nDogs:  12470\n"
    }
   ],
   "source": [
    "class DogsVsCats():\n",
    "    IMG_SIZE = 50\n",
    "    CATS = \"PetImages/Cat\"\n",
    "    DOGS = \"PetImages/Dog\"\n",
    "    TESTING = \"PetImages/Testing\"\n",
    "    LABELS = {CATS: 0, DOGS: 1}\n",
    "    training_data = []\n",
    "    catcount = 0\n",
    "    dogcount = 0\n",
    "\n",
    "    def make_training_data(self):\n",
    "        for label in self.LABELS:\n",
    "            for f in tqdm(os.listdir(label)): # f is the file name\n",
    "                try:\n",
    "                    path = os.path.join(label, f)\n",
    "                    img = cv2.imread(path, cv2.IMREAD_GRAYSCALE) # Imports image, and turns it into grayscale\n",
    "                    img = cv2.resize(img, (self.IMG_SIZE, self.IMG_SIZE))\n",
    "                    self.training_data.append([np.array(img), np.eye(2)[self.LABELS[label]]]) # This creates the training data by appending each image at a time. Notice that np.eye was used to create one-hot encoding of the label of each image. \n",
    "\n",
    "                    if label == self.CATS:\n",
    "                        self.catcount += 1\n",
    "                    elif label == self.DOGS:\n",
    "                        self.dogcount += 1\n",
    "                \n",
    "                except Exception as e: # This catches errors for the images that did not work for the model\n",
    "                    pass\n",
    "                    # print(str(e))\n",
    "\n",
    "        np.random.shuffle(self.training_data) # Shuffles in-place\n",
    "        np.save(\"training_data.npy\", self.training_data)\n",
    "        print(\"Cats: \", self.catcount)\n",
    "        print(\"Dogs: \", self.dogcount)\n",
    "\n",
    "if REBUILD_DATA:\n",
    "    dogsvcats = DogsVsCats()\n",
    "    dogsvcats.make_training_data()"
   ]
  },
  {
   "cell_type": "code",
   "execution_count": 9,
   "metadata": {
    "tags": []
   },
   "outputs": [
    {
     "output_type": "stream",
     "name": "stdout",
     "text": "24946\n"
    }
   ],
   "source": [
    "training_data = np.load(\"training_data.npy\", allow_pickle=True) # This loads back our training data, now that this is done we do not have to re run the class again to build the dataset. \n",
    "print(len(training_data))"
   ]
  },
  {
   "cell_type": "code",
   "execution_count": 15,
   "metadata": {
    "tags": []
   },
   "outputs": [
    {
     "output_type": "display_data",
     "data": {
      "text/plain": "<Figure size 432x288 with 1 Axes>",
      "image/svg+xml": "<?xml version=\"1.0\" encoding=\"utf-8\" standalone=\"no\"?>\n<!DOCTYPE svg PUBLIC \"-//W3C//DTD SVG 1.1//EN\"\n  \"http://www.w3.org/Graphics/SVG/1.1/DTD/svg11.dtd\">\n<!-- Created with matplotlib (https://matplotlib.org/) -->\n<svg height=\"250.142944pt\" version=\"1.1\" viewBox=\"0 0 251.565 250.142944\" width=\"251.565pt\" xmlns=\"http://www.w3.org/2000/svg\" xmlns:xlink=\"http://www.w3.org/1999/xlink\">\n <defs>\n  <style type=\"text/css\">\n*{stroke-linecap:butt;stroke-linejoin:round;}\n  </style>\n </defs>\n <g id=\"figure_1\">\n  <g id=\"patch_1\">\n   <path d=\"M 0 250.142944 \nL 251.565 250.142944 \nL 251.565 0 \nL 0 0 \nz\n\" style=\"fill:none;\"/>\n  </g>\n  <g id=\"axes_1\">\n   <g id=\"patch_2\">\n    <path d=\"M 26.925 226.264819 \nL 244.365 226.264819 \nL 244.365 8.824819 \nL 26.925 8.824819 \nz\n\" style=\"fill:#ffffff;\"/>\n   </g>\n   <g clip-path=\"url(#p73d5675303)\">\n    <image height=\"218\" id=\"imagef44908224c\" transform=\"scale(1 -1)translate(0 -218)\" width=\"218\" x=\"26.925\" xlink:href=\"data:image/png;base64,\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\" y=\"-8.264819\"/>\n   </g>\n   <g id=\"matplotlib.axis_1\">\n    <g id=\"xtick_1\">\n     <g id=\"line2d_1\">\n      <defs>\n       <path d=\"M 0 0 \nL 0 3.5 \n\" id=\"m897238b343\" style=\"stroke:#000000;stroke-width:0.8;\"/>\n      </defs>\n      <g>\n       <use style=\"stroke:#000000;stroke-width:0.8;\" x=\"29.0994\" xlink:href=\"#m897238b343\" y=\"226.264819\"/>\n      </g>\n     </g>\n     <g id=\"text_1\">\n      <!-- 0 -->\n      <defs>\n       <path d=\"M 31.78125 66.40625 \nQ 24.171875 66.40625 20.328125 58.90625 \nQ 16.5 51.421875 16.5 36.375 \nQ 16.5 21.390625 20.328125 13.890625 \nQ 24.171875 6.390625 31.78125 6.390625 \nQ 39.453125 6.390625 43.28125 13.890625 \nQ 47.125 21.390625 47.125 36.375 \nQ 47.125 51.421875 43.28125 58.90625 \nQ 39.453125 66.40625 31.78125 66.40625 \nz\nM 31.78125 74.21875 \nQ 44.046875 74.21875 50.515625 64.515625 \nQ 56.984375 54.828125 56.984375 36.375 \nQ 56.984375 17.96875 50.515625 8.265625 \nQ 44.046875 -1.421875 31.78125 -1.421875 \nQ 19.53125 -1.421875 13.0625 8.265625 \nQ 6.59375 17.96875 6.59375 36.375 \nQ 6.59375 54.828125 13.0625 64.515625 \nQ 19.53125 74.21875 31.78125 74.21875 \nz\n\" id=\"DejaVuSans-48\"/>\n      </defs>\n      <g transform=\"translate(25.91815 240.863256)scale(0.1 -0.1)\">\n       <use xlink:href=\"#DejaVuSans-48\"/>\n      </g>\n     </g>\n    </g>\n    <g id=\"xtick_2\">\n     <g id=\"line2d_2\">\n      <g>\n       <use style=\"stroke:#000000;stroke-width:0.8;\" x=\"72.5874\" xlink:href=\"#m897238b343\" y=\"226.264819\"/>\n      </g>\n     </g>\n     <g id=\"text_2\">\n      <!-- 10 -->\n      <defs>\n       <path d=\"M 12.40625 8.296875 \nL 28.515625 8.296875 \nL 28.515625 63.921875 \nL 10.984375 60.40625 \nL 10.984375 69.390625 \nL 28.421875 72.90625 \nL 38.28125 72.90625 \nL 38.28125 8.296875 \nL 54.390625 8.296875 \nL 54.390625 0 \nL 12.40625 0 \nz\n\" id=\"DejaVuSans-49\"/>\n      </defs>\n      <g transform=\"translate(66.2249 240.863256)scale(0.1 -0.1)\">\n       <use xlink:href=\"#DejaVuSans-49\"/>\n       <use x=\"63.623047\" xlink:href=\"#DejaVuSans-48\"/>\n      </g>\n     </g>\n    </g>\n    <g id=\"xtick_3\">\n     <g id=\"line2d_3\">\n      <g>\n       <use style=\"stroke:#000000;stroke-width:0.8;\" x=\"116.0754\" xlink:href=\"#m897238b343\" y=\"226.264819\"/>\n      </g>\n     </g>\n     <g id=\"text_3\">\n      <!-- 20 -->\n      <defs>\n       <path d=\"M 19.1875 8.296875 \nL 53.609375 8.296875 \nL 53.609375 0 \nL 7.328125 0 \nL 7.328125 8.296875 \nQ 12.9375 14.109375 22.625 23.890625 \nQ 32.328125 33.6875 34.8125 36.53125 \nQ 39.546875 41.84375 41.421875 45.53125 \nQ 43.3125 49.21875 43.3125 52.78125 \nQ 43.3125 58.59375 39.234375 62.25 \nQ 35.15625 65.921875 28.609375 65.921875 \nQ 23.96875 65.921875 18.8125 64.3125 \nQ 13.671875 62.703125 7.8125 59.421875 \nL 7.8125 69.390625 \nQ 13.765625 71.78125 18.9375 73 \nQ 24.125 74.21875 28.421875 74.21875 \nQ 39.75 74.21875 46.484375 68.546875 \nQ 53.21875 62.890625 53.21875 53.421875 \nQ 53.21875 48.921875 51.53125 44.890625 \nQ 49.859375 40.875 45.40625 35.40625 \nQ 44.1875 33.984375 37.640625 27.21875 \nQ 31.109375 20.453125 19.1875 8.296875 \nz\n\" id=\"DejaVuSans-50\"/>\n      </defs>\n      <g transform=\"translate(109.7129 240.863256)scale(0.1 -0.1)\">\n       <use xlink:href=\"#DejaVuSans-50\"/>\n       <use x=\"63.623047\" xlink:href=\"#DejaVuSans-48\"/>\n      </g>\n     </g>\n    </g>\n    <g id=\"xtick_4\">\n     <g id=\"line2d_4\">\n      <g>\n       <use style=\"stroke:#000000;stroke-width:0.8;\" x=\"159.5634\" xlink:href=\"#m897238b343\" y=\"226.264819\"/>\n      </g>\n     </g>\n     <g id=\"text_4\">\n      <!-- 30 -->\n      <defs>\n       <path d=\"M 40.578125 39.3125 \nQ 47.65625 37.796875 51.625 33 \nQ 55.609375 28.21875 55.609375 21.1875 \nQ 55.609375 10.40625 48.1875 4.484375 \nQ 40.765625 -1.421875 27.09375 -1.421875 \nQ 22.515625 -1.421875 17.65625 -0.515625 \nQ 12.796875 0.390625 7.625 2.203125 \nL 7.625 11.71875 \nQ 11.71875 9.328125 16.59375 8.109375 \nQ 21.484375 6.890625 26.8125 6.890625 \nQ 36.078125 6.890625 40.9375 10.546875 \nQ 45.796875 14.203125 45.796875 21.1875 \nQ 45.796875 27.640625 41.28125 31.265625 \nQ 36.765625 34.90625 28.71875 34.90625 \nL 20.21875 34.90625 \nL 20.21875 43.015625 \nL 29.109375 43.015625 \nQ 36.375 43.015625 40.234375 45.921875 \nQ 44.09375 48.828125 44.09375 54.296875 \nQ 44.09375 59.90625 40.109375 62.90625 \nQ 36.140625 65.921875 28.71875 65.921875 \nQ 24.65625 65.921875 20.015625 65.03125 \nQ 15.375 64.15625 9.8125 62.3125 \nL 9.8125 71.09375 \nQ 15.4375 72.65625 20.34375 73.4375 \nQ 25.25 74.21875 29.59375 74.21875 \nQ 40.828125 74.21875 47.359375 69.109375 \nQ 53.90625 64.015625 53.90625 55.328125 \nQ 53.90625 49.265625 50.4375 45.09375 \nQ 46.96875 40.921875 40.578125 39.3125 \nz\n\" id=\"DejaVuSans-51\"/>\n      </defs>\n      <g transform=\"translate(153.2009 240.863256)scale(0.1 -0.1)\">\n       <use xlink:href=\"#DejaVuSans-51\"/>\n       <use x=\"63.623047\" xlink:href=\"#DejaVuSans-48\"/>\n      </g>\n     </g>\n    </g>\n    <g id=\"xtick_5\">\n     <g id=\"line2d_5\">\n      <g>\n       <use style=\"stroke:#000000;stroke-width:0.8;\" x=\"203.0514\" xlink:href=\"#m897238b343\" y=\"226.264819\"/>\n      </g>\n     </g>\n     <g id=\"text_5\">\n      <!-- 40 -->\n      <defs>\n       <path d=\"M 37.796875 64.3125 \nL 12.890625 25.390625 \nL 37.796875 25.390625 \nz\nM 35.203125 72.90625 \nL 47.609375 72.90625 \nL 47.609375 25.390625 \nL 58.015625 25.390625 \nL 58.015625 17.1875 \nL 47.609375 17.1875 \nL 47.609375 0 \nL 37.796875 0 \nL 37.796875 17.1875 \nL 4.890625 17.1875 \nL 4.890625 26.703125 \nz\n\" id=\"DejaVuSans-52\"/>\n      </defs>\n      <g transform=\"translate(196.6889 240.863256)scale(0.1 -0.1)\">\n       <use xlink:href=\"#DejaVuSans-52\"/>\n       <use x=\"63.623047\" xlink:href=\"#DejaVuSans-48\"/>\n      </g>\n     </g>\n    </g>\n   </g>\n   <g id=\"matplotlib.axis_2\">\n    <g id=\"ytick_1\">\n     <g id=\"line2d_6\">\n      <defs>\n       <path d=\"M 0 0 \nL -3.5 0 \n\" id=\"m09a60d0462\" style=\"stroke:#000000;stroke-width:0.8;\"/>\n      </defs>\n      <g>\n       <use style=\"stroke:#000000;stroke-width:0.8;\" x=\"26.925\" xlink:href=\"#m09a60d0462\" y=\"10.999219\"/>\n      </g>\n     </g>\n     <g id=\"text_6\">\n      <!-- 0 -->\n      <g transform=\"translate(13.5625 14.798437)scale(0.1 -0.1)\">\n       <use xlink:href=\"#DejaVuSans-48\"/>\n      </g>\n     </g>\n    </g>\n    <g id=\"ytick_2\">\n     <g id=\"line2d_7\">\n      <g>\n       <use style=\"stroke:#000000;stroke-width:0.8;\" x=\"26.925\" xlink:href=\"#m09a60d0462\" y=\"54.487219\"/>\n      </g>\n     </g>\n     <g id=\"text_7\">\n      <!-- 10 -->\n      <g transform=\"translate(7.2 58.286437)scale(0.1 -0.1)\">\n       <use xlink:href=\"#DejaVuSans-49\"/>\n       <use x=\"63.623047\" xlink:href=\"#DejaVuSans-48\"/>\n      </g>\n     </g>\n    </g>\n    <g id=\"ytick_3\">\n     <g id=\"line2d_8\">\n      <g>\n       <use style=\"stroke:#000000;stroke-width:0.8;\" x=\"26.925\" xlink:href=\"#m09a60d0462\" y=\"97.975219\"/>\n      </g>\n     </g>\n     <g id=\"text_8\">\n      <!-- 20 -->\n      <g transform=\"translate(7.2 101.774437)scale(0.1 -0.1)\">\n       <use xlink:href=\"#DejaVuSans-50\"/>\n       <use x=\"63.623047\" xlink:href=\"#DejaVuSans-48\"/>\n      </g>\n     </g>\n    </g>\n    <g id=\"ytick_4\">\n     <g id=\"line2d_9\">\n      <g>\n       <use style=\"stroke:#000000;stroke-width:0.8;\" x=\"26.925\" xlink:href=\"#m09a60d0462\" y=\"141.463219\"/>\n      </g>\n     </g>\n     <g id=\"text_9\">\n      <!-- 30 -->\n      <g transform=\"translate(7.2 145.262437)scale(0.1 -0.1)\">\n       <use xlink:href=\"#DejaVuSans-51\"/>\n       <use x=\"63.623047\" xlink:href=\"#DejaVuSans-48\"/>\n      </g>\n     </g>\n    </g>\n    <g id=\"ytick_5\">\n     <g id=\"line2d_10\">\n      <g>\n       <use style=\"stroke:#000000;stroke-width:0.8;\" x=\"26.925\" xlink:href=\"#m09a60d0462\" y=\"184.951219\"/>\n      </g>\n     </g>\n     <g id=\"text_10\">\n      <!-- 40 -->\n      <g transform=\"translate(7.2 188.750437)scale(0.1 -0.1)\">\n       <use xlink:href=\"#DejaVuSans-52\"/>\n       <use x=\"63.623047\" xlink:href=\"#DejaVuSans-48\"/>\n      </g>\n     </g>\n    </g>\n   </g>\n   <g id=\"patch_3\">\n    <path d=\"M 26.925 226.264819 \nL 26.925 8.824819 \n\" style=\"fill:none;stroke:#000000;stroke-linecap:square;stroke-linejoin:miter;stroke-width:0.8;\"/>\n   </g>\n   <g id=\"patch_4\">\n    <path d=\"M 244.365 226.264819 \nL 244.365 8.824819 \n\" style=\"fill:none;stroke:#000000;stroke-linecap:square;stroke-linejoin:miter;stroke-width:0.8;\"/>\n   </g>\n   <g id=\"patch_5\">\n    <path d=\"M 26.925 226.264819 \nL 244.365 226.264819 \n\" style=\"fill:none;stroke:#000000;stroke-linecap:square;stroke-linejoin:miter;stroke-width:0.8;\"/>\n   </g>\n   <g id=\"patch_6\">\n    <path d=\"M 26.925 8.824819 \nL 244.365 8.824819 \n\" style=\"fill:none;stroke:#000000;stroke-linecap:square;stroke-linejoin:miter;stroke-width:0.8;\"/>\n   </g>\n  </g>\n </g>\n <defs>\n  <clipPath id=\"p73d5675303\">\n   <rect height=\"217.44\" width=\"217.44\" x=\"26.925\" y=\"8.824819\"/>\n  </clipPath>\n </defs>\n</svg>\n",
      "image/png": "[encoded data removed]"
     },
     "metadata": {
      "needs_background": "light"
     }
    },
    {
     "output_type": "stream",
     "name": "stdout",
     "text": "label=  [0. 1.]\n"
    }
   ],
   "source": [
    "import matplotlib.pyplot as plt\n",
    "\n",
    "test_sample = training_data[1]\n",
    "\n",
    "plt.imshow(test_sample[0], cmap=\"gray\")\n",
    "plt.show()\n",
    "\n",
    "print(\"label= \", test_sample[1])"
   ]
  },
  {
   "cell_type": "markdown",
   "metadata": {},
   "source": [
    "## Creating the Neural Network\n",
    "\n",
    "### From Convolution Layer to Linear Layer\n",
    "\n",
    "In CNNs, the convolutional layers eventually have to pass the data to linear layers which would be the distribution of predictions.\n",
    "\n",
    "There is no good way of doing the previously mention. In TensorFlow, Keras takes care of this for us by flattening the data but in PyTorch we do not have the advatage of that. \n",
    "\n",
    "One way that we can do this for PyTorch is to pass data through, and then figure out what's the shape."
   ]
  },
  {
   "cell_type": "code",
   "execution_count": 16,
   "metadata": {
    "tags": []
   },
   "outputs": [
    {
     "output_type": "stream",
     "name": "stdout",
     "text": "torch.Size([128, 2, 2])\n"
    }
   ],
   "source": [
    "import torch\n",
    "import torch.nn as nn\n",
    "import torch.nn.functional as F\n",
    "\n",
    "class Net(nn.Module):\n",
    "    def __init__(self):\n",
    "        super().__init__()\n",
    "\n",
    "        # Convolution Layers\n",
    "        self.conv1 = nn.Conv2d(1, 32, 5) # input= 1 image, output = 32 convolutional features, kernel size = 5 (meaning a 5x5 kernel)\n",
    "        self.conv2 = nn.Conv2d(32, 64, 5)\n",
    "        self.conv3 = nn.Conv2d(64, 128, 5)\n",
    "\n",
    "        x = torch.randn(50,50).view(-1,1,50,50) # -1 however big the tensor, 1 image, 50 by 50 pixels (this is creating some random data to pass through the network to know the size of the flatten data to be passed through the linear layers)\n",
    "        self._to_linear = None\n",
    "        self.convs(x) # This is going to serve as part of our forward method\n",
    "\n",
    "        # Linear Layers\n",
    "        self.fc1 = nn.Linear(self._to_linear, 512) # Notice the shape of the input is that of the variable self._to_linear which is calculated by passing through a random test sample\n",
    "        self.fc2 = nn.Linear(512, 2) # (output is 2 since we have 2 classes in this case)\n",
    "\n",
    "    def convs(self, x): # Forward method for only the convolutional layers\n",
    "        x = F.max_pool2d(F.relu(self.conv1(x)), (2,2)) # Activating the neuron through Relu, then pooling it with a shape of 2 by 2. \n",
    "        x = F.max_pool2d(F.relu(self.conv2(x)), (2,2))\n",
    "        x = F.max_pool2d(F.relu(self.conv3(x)), (2,2))\n",
    "\n",
    "        print(x[0].shape)\n",
    "\n",
    "        if self._to_linear is None:\n",
    "            self._to_linear = x[0].shape[0]*x[0].shape[1]*x[0].shape[2] # This checks the shape of the 0th element in the batch which is our random test sample, and gives the length of it flatten.\n",
    "            return x\n",
    "\n",
    "    def forward(self, x): # Forward method for the linear layers\n",
    "        x = self.convs(x)\n",
    "        x = x.view(-1, self._to_linear) # This changes the dimensions of the elements in the batch to be flattened\n",
    "        x = F.relu(self.fc1(x)) # Passing it forward to the first linear layer\n",
    "        x = self.fc2(x) # Passing it forward to the output layer of the network\n",
    "\n",
    "        return F.softmax(x, dim= 1) # Activation fuction on the output\n",
    "\n",
    "net = Net()\n"
   ]
  },
  {
   "cell_type": "code",
   "execution_count": 18,
   "metadata": {
    "tags": []
   },
   "outputs": [
    {
     "output_type": "stream",
     "name": "stdout",
     "text": "2494\n"
    }
   ],
   "source": [
    "import torch.optim as optim \n",
    "\n",
    "optimizer = optim.Adam(net.parameters(), lr= 0.001)\n",
    "loss_function = nn.MSELoss()\n",
    "\n",
    "X = torch.Tensor([i[0] for i in training_data]).view(-1, 50, 50) # Creating a tensor of our images data\n",
    "X = X/255.0 # Scaling the value of the pictures to be between 0 and 1\n",
    "y = torch.Tensor([i[1] for i in training_data]) # Creating a tensor of our labels\n",
    "\n",
    "VAL_PCT = 0.1 # Percentage of the data that will be our testing data\n",
    "val_size = int(len(X)*VAL_PCT)\n",
    "\n",
    "print(val_size)"
   ]
  },
  {
   "cell_type": "code",
   "execution_count": 20,
   "metadata": {
    "tags": []
   },
   "outputs": [
    {
     "output_type": "stream",
     "name": "stdout",
     "text": "22452\n2494\n"
    }
   ],
   "source": [
    "# Separating Training and Test data\n",
    "\n",
    "train_X = X[:-val_size]\n",
    "train_y = y[:-val_size]\n",
    "\n",
    "test_X = X[-val_size:]\n",
    "test_y = y[-val_size:]\n",
    "\n",
    "print(len(train_X))\n",
    "print(len(test_X))"
   ]
  },
  {
   "cell_type": "code",
   "execution_count": 23,
   "metadata": {
    "tags": []
   },
   "outputs": [
    {
     "output_type": "stream",
     "name": "stderr",
     "text": "0%|          | 0/225 [00:00<?, ?it/s]torch.Size([128, 2, 2])\n\n"
    },
    {
     "output_type": "error",
     "ename": "AttributeError",
     "evalue": "'NoneType' object has no attribute 'view'",
     "traceback": [
      "\u001b[0;31m---------------------------------------------------------------------------\u001b[0m",
      "\u001b[0;31mAttributeError\u001b[0m                            Traceback (most recent call last)",
      "\u001b[0;32m<ipython-input-23-dbde13978da6>\u001b[0m in \u001b[0;36m<module>\u001b[0;34m\u001b[0m\n\u001b[1;32m     12\u001b[0m         \u001b[0;31m#  optimizer.zero_grad() # This is how you zero the grad specific to the optimizer\u001b[0m\u001b[0;34m\u001b[0m\u001b[0;34m\u001b[0m\u001b[0;34m\u001b[0m\u001b[0m\n\u001b[1;32m     13\u001b[0m         \u001b[0mnet\u001b[0m\u001b[0;34m.\u001b[0m\u001b[0mzero_grad\u001b[0m\u001b[0;34m(\u001b[0m\u001b[0;34m)\u001b[0m \u001b[0;31m#This is how you zero the grad specific to the network model\u001b[0m\u001b[0;34m\u001b[0m\u001b[0;34m\u001b[0m\u001b[0m\n\u001b[0;32m---> 14\u001b[0;31m         \u001b[0moutputs\u001b[0m \u001b[0;34m=\u001b[0m \u001b[0mnet\u001b[0m\u001b[0;34m(\u001b[0m\u001b[0mbatch_X\u001b[0m\u001b[0;34m)\u001b[0m\u001b[0;34m\u001b[0m\u001b[0;34m\u001b[0m\u001b[0m\n\u001b[0m\u001b[1;32m     15\u001b[0m         \u001b[0mloss\u001b[0m \u001b[0;34m=\u001b[0m \u001b[0mloss_function\u001b[0m\u001b[0;34m(\u001b[0m\u001b[0moutputs\u001b[0m\u001b[0;34m,\u001b[0m \u001b[0mbatch_y\u001b[0m\u001b[0;34m)\u001b[0m \u001b[0;31m# Calculates loss\u001b[0m\u001b[0;34m\u001b[0m\u001b[0;34m\u001b[0m\u001b[0m\n\u001b[1;32m     16\u001b[0m         \u001b[0mloss\u001b[0m\u001b[0;34m.\u001b[0m\u001b[0mbackward\u001b[0m\u001b[0;34m(\u001b[0m\u001b[0;34m)\u001b[0m \u001b[0;31m# Back propagates the loss\u001b[0m\u001b[0;34m\u001b[0m\u001b[0;34m\u001b[0m\u001b[0m\n",
      "\u001b[0;32m/Library/Frameworks/Python.framework/Versions/3.7/lib/python3.7/site-packages/torch/nn/modules/module.py\u001b[0m in \u001b[0;36m__call__\u001b[0;34m(self, *input, **kwargs)\u001b[0m\n\u001b[1;32m    548\u001b[0m             \u001b[0mresult\u001b[0m \u001b[0;34m=\u001b[0m \u001b[0mself\u001b[0m\u001b[0;34m.\u001b[0m\u001b[0m_slow_forward\u001b[0m\u001b[0;34m(\u001b[0m\u001b[0;34m*\u001b[0m\u001b[0minput\u001b[0m\u001b[0;34m,\u001b[0m \u001b[0;34m**\u001b[0m\u001b[0mkwargs\u001b[0m\u001b[0;34m)\u001b[0m\u001b[0;34m\u001b[0m\u001b[0;34m\u001b[0m\u001b[0m\n\u001b[1;32m    549\u001b[0m         \u001b[0;32melse\u001b[0m\u001b[0;34m:\u001b[0m\u001b[0;34m\u001b[0m\u001b[0;34m\u001b[0m\u001b[0m\n\u001b[0;32m--> 550\u001b[0;31m             \u001b[0mresult\u001b[0m \u001b[0;34m=\u001b[0m \u001b[0mself\u001b[0m\u001b[0;34m.\u001b[0m\u001b[0mforward\u001b[0m\u001b[0;34m(\u001b[0m\u001b[0;34m*\u001b[0m\u001b[0minput\u001b[0m\u001b[0;34m,\u001b[0m \u001b[0;34m**\u001b[0m\u001b[0mkwargs\u001b[0m\u001b[0;34m)\u001b[0m\u001b[0;34m\u001b[0m\u001b[0;34m\u001b[0m\u001b[0m\n\u001b[0m\u001b[1;32m    551\u001b[0m         \u001b[0;32mfor\u001b[0m \u001b[0mhook\u001b[0m \u001b[0;32min\u001b[0m \u001b[0mself\u001b[0m\u001b[0;34m.\u001b[0m\u001b[0m_forward_hooks\u001b[0m\u001b[0;34m.\u001b[0m\u001b[0mvalues\u001b[0m\u001b[0;34m(\u001b[0m\u001b[0;34m)\u001b[0m\u001b[0;34m:\u001b[0m\u001b[0;34m\u001b[0m\u001b[0;34m\u001b[0m\u001b[0m\n\u001b[1;32m    552\u001b[0m             \u001b[0mhook_result\u001b[0m \u001b[0;34m=\u001b[0m \u001b[0mhook\u001b[0m\u001b[0;34m(\u001b[0m\u001b[0mself\u001b[0m\u001b[0;34m,\u001b[0m \u001b[0minput\u001b[0m\u001b[0;34m,\u001b[0m \u001b[0mresult\u001b[0m\u001b[0;34m)\u001b[0m\u001b[0;34m\u001b[0m\u001b[0;34m\u001b[0m\u001b[0m\n",
      "\u001b[0;32m<ipython-input-16-7d75d41bcaaf>\u001b[0m in \u001b[0;36mforward\u001b[0;34m(self, x)\u001b[0m\n\u001b[1;32m     33\u001b[0m     \u001b[0;32mdef\u001b[0m \u001b[0mforward\u001b[0m\u001b[0;34m(\u001b[0m\u001b[0mself\u001b[0m\u001b[0;34m,\u001b[0m \u001b[0mx\u001b[0m\u001b[0;34m)\u001b[0m\u001b[0;34m:\u001b[0m \u001b[0;31m# Forward method for the linear layers\u001b[0m\u001b[0;34m\u001b[0m\u001b[0;34m\u001b[0m\u001b[0m\n\u001b[1;32m     34\u001b[0m         \u001b[0mx\u001b[0m \u001b[0;34m=\u001b[0m \u001b[0mself\u001b[0m\u001b[0;34m.\u001b[0m\u001b[0mconvs\u001b[0m\u001b[0;34m(\u001b[0m\u001b[0mx\u001b[0m\u001b[0;34m)\u001b[0m\u001b[0;34m\u001b[0m\u001b[0;34m\u001b[0m\u001b[0m\n\u001b[0;32m---> 35\u001b[0;31m         \u001b[0mx\u001b[0m \u001b[0;34m=\u001b[0m \u001b[0mx\u001b[0m\u001b[0;34m.\u001b[0m\u001b[0mview\u001b[0m\u001b[0;34m(\u001b[0m\u001b[0;34m-\u001b[0m\u001b[0;36m1\u001b[0m\u001b[0;34m,\u001b[0m \u001b[0mself\u001b[0m\u001b[0;34m.\u001b[0m\u001b[0m_to_linear\u001b[0m\u001b[0;34m)\u001b[0m \u001b[0;31m# This changes the dimensions of the elements in the batch to be flattened\u001b[0m\u001b[0;34m\u001b[0m\u001b[0;34m\u001b[0m\u001b[0m\n\u001b[0m\u001b[1;32m     36\u001b[0m         \u001b[0mx\u001b[0m \u001b[0;34m=\u001b[0m \u001b[0mF\u001b[0m\u001b[0;34m.\u001b[0m\u001b[0mrelu\u001b[0m\u001b[0;34m(\u001b[0m\u001b[0mself\u001b[0m\u001b[0;34m.\u001b[0m\u001b[0mfc1\u001b[0m\u001b[0;34m(\u001b[0m\u001b[0mx\u001b[0m\u001b[0;34m)\u001b[0m\u001b[0;34m)\u001b[0m \u001b[0;31m# Passing it forward to the first linear layer\u001b[0m\u001b[0;34m\u001b[0m\u001b[0;34m\u001b[0m\u001b[0m\n\u001b[1;32m     37\u001b[0m         \u001b[0mx\u001b[0m \u001b[0;34m=\u001b[0m \u001b[0mself\u001b[0m\u001b[0;34m.\u001b[0m\u001b[0mfc2\u001b[0m\u001b[0;34m(\u001b[0m\u001b[0mx\u001b[0m\u001b[0;34m)\u001b[0m \u001b[0;31m# Passing it forward to the output layer of the network\u001b[0m\u001b[0;34m\u001b[0m\u001b[0;34m\u001b[0m\u001b[0m\n",
      "\u001b[0;31mAttributeError\u001b[0m: 'NoneType' object has no attribute 'view'"
     ]
    }
   ],
   "source": [
    "\n",
    "\n",
    "BATCH_SIZE = 100 # If you are hitting memory errors, then change your batch size. This is usually the easiest way to resolve that problem in any other neural network. The lowest where you need to tweak the layers themselves should be about 8.\n",
    "\n",
    "EPOCHS = 1\n",
    "\n",
    "for epoc in range(EPOCHS):\n",
    "    for i in tqdm(range(0, len(train_X), BATCH_SIZE)): # defining each batch from 0th index up to but not including the 100th index, runned through the entire length of our training data\n",
    "        # print(i, i+BATCH_SIZE)\n",
    "        batch_X = train_X[i:i+BATCH_SIZE].view(-1,1,50,50) # shapping the batch of images to tensor size format\n",
    "        batch_y = train_y[i:i+BATCH_SIZE]\n",
    "\n",
    "        # Below there are two ways to zero your gradient, this comes down to how many optimizers are being used, depending on how many models are working together.\n",
    "        #  optimizer.zero_grad() # This is how you zero the grad specific to the optimizer\n",
    "        net.zero_grad() #This is how you zero the grad specific to the network model\n",
    "        outputs = net(batch_X)\n",
    "        loss = loss_function(outputs, batch_y) # Calculates loss\n",
    "        loss.backward() # Back propagates the loss\n",
    "        optimizer.setp()\n",
    "\n",
    "print(\"Loss = \", loss)\n"
   ]
  },
  {
   "cell_type": "code",
   "execution_count": null,
   "metadata": {},
   "outputs": [],
   "source": []
  }
 ]
}