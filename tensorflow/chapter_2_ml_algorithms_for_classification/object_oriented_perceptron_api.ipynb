{
 "cells": [
  {
   "cell_type": "markdown",
   "metadata": {},
   "source": [
    "# Object-Oriented Pereceptron API"
   ]
  },
  {
   "cell_type": "markdown",
   "metadata": {},
   "source": [
    "## Creating Perceptron classifier (for Binary classification)\n",
    "\n",
    "### Overall Parameters and Attributes\n",
    "\n",
    "#### Parameters\n",
    "\n",
    "- eta: float\n",
    "    - Learning rate (between 0.0 and 1.0)\n",
    "- n_iter: int\n",
    "    - Passes over the training dataset. (a.k.a epochs)\n",
    "- random_state: int\n",
    "    - Random number generator seed for random weight initialization.\n",
    "\n",
    "#### Attributes\n",
    "\n",
    "- w_: 1d-array\n",
    "    - Weights after fitting.\n",
    "- errors_: list\n",
    "    - Number of misclassifications (updates) in each epoch.\n",
    "\n",
    "### Fit method\n",
    "\n",
    "#### Parameters\n",
    "\n",
    "- X: Training vectors, where n_examples is the number of examples and n_features is the number of features.\n",
    "    - {array-like}\n",
    "    - shape = [ n_examples, n_features ]\n",
    "- y: Target values.\n",
    "    - array-like\n",
    "    - shape = n_examples\n",
    "\n",
    "#### Returns\n",
    "\n",
    "- self: object\n"
   ]
  },
  {
   "cell_type": "code",
   "execution_count": 1,
   "metadata": {},
   "outputs": [],
   "source": [
    "import numpy as np"
   ]
  },
  {
   "cell_type": "code",
   "execution_count": 2,
   "metadata": {},
   "outputs": [],
   "source": [
    "class Perceptron(object):\n",
    "\n",
    "    def __init__(self, eta = 0.01, n_iter = 50, random_state = 13):\n",
    "        self.eta = eta\n",
    "        self.n_iter = n_iter\n",
    "        self.random_state = random_state\n",
    "    \n",
    "    def fit(self, X, y):\n",
    "        rgen = np.random.RandomState(self.random_state)\n",
    "        self.w_ = rgen.normal(loc = 0.0, scale = 0.01, size = 1 + X.shape[1])\n",
    "        self.errors_ = []\n",
    "\n",
    "        for _ in range(self.n_iter):\n",
    "            errors = 0\n",
    "            for xi, target in zip(X, y):\n",
    "                update = self.eta * (target - self.predict(xi))\n",
    "                self.w_[1:] += update * xi\n",
    "                self.w_[0] += update               #This is the theta, or bias unit (a.k.a. threshold)\n",
    "                errors += int(update != 0.0)\n",
    "            self.errors_.append(errors)\n",
    "        return self\n",
    "    \n",
    "    def net_input(self, X):\n",
    "        # Calculates net input\n",
    "        return np.dot(X, self.w_[1:]) + self.w_[0]\n",
    "\n",
    "    def predict(self, X):\n",
    "        # Returns class label after unit step\n",
    "        return np.where(self.net_input(X) >= 0.0, 1, -1)\n",
    "\n",
    "        "
   ]
  },
  {
   "cell_type": "markdown",
   "metadata": {},
   "source": [
    "## Importing the Iris dataset directly from the UCI Machine Learning Repository"
   ]
  },
  {
   "cell_type": "code",
   "execution_count": 3,
   "metadata": {},
   "outputs": [
    {
     "output_type": "stream",
     "name": "stdout",
     "text": "URL: https://archive.ics.uci.edu/ml/machine-learning-databases/iris/iris.data\n"
    }
   ],
   "source": [
    "import os\n",
    "import pandas as pd \n",
    "s = os.path.join('https://archive.ics.uci.edu', 'ml', 'machine-learning-databases', 'iris', 'iris.data')\n",
    "print('URL:', s)"
   ]
  },
  {
   "cell_type": "code",
   "execution_count": 4,
   "metadata": {},
   "outputs": [
    {
     "output_type": "stream",
     "name": "stdout",
     "text": "0    1    2    3               4\n145  6.7  3.0  5.2  2.3  Iris-virginica\n146  6.3  2.5  5.0  1.9  Iris-virginica\n147  6.5  3.0  5.2  2.0  Iris-virginica\n148  6.2  3.4  5.4  2.3  Iris-virginica\n149  5.9  3.0  5.1  1.8  Iris-virginica\nIris-setosa Iris-versicolor\n"
    }
   ],
   "source": [
    "df = pd.read_csv(\n",
    "    s,\n",
    "    header= None,\n",
    "    encoding= 'utf-8'\n",
    ")\n",
    "\n",
    "print(df.tail())\n",
    "print(df.iloc[49,4],df.iloc[99,4]) #Checking values are separated"
   ]
  },
  {
   "cell_type": "code",
   "execution_count": 5,
   "metadata": {},
   "outputs": [
    {
     "output_type": "execute_result",
     "data": {
      "text/plain": "array(['Iris-setosa', 'Iris-versicolor', 'Iris-virginica'], dtype=object)"
     },
     "metadata": {},
     "execution_count": 5
    }
   ],
   "source": [
    "df[4].unique()"
   ]
  },
  {
   "cell_type": "markdown",
   "metadata": {},
   "source": [
    "## Extracting and Graphing Labels"
   ]
  },
  {
   "cell_type": "code",
   "execution_count": 6,
   "metadata": {},
   "outputs": [
    {
     "output_type": "display_data",
     "data": {
      "text/plain": "<Figure size 640x480 with 1 Axes>"
     },
     "metadata": {}
    }
   ],
   "source": [
    "import matplotlib.pyplot as plt\n",
    "import numpy as numpy\n",
    "\n",
    "# Selecting Setosa and Versicolor labels\n",
    "y = df.iloc[0:100, 4].values\n",
    "y = np.where(y == 'Iris-setosa', -1, 1)\n",
    "\n",
    "# Extract sepal lenfth and petal length\n",
    "X = df.iloc[0:100, [0,2]].values #We are only using two features to simplify graphing (this is just practice)\n",
    "\n",
    "# Plotting data\n",
    "plt.scatter(\n",
    "    X[:50, 0],\n",
    "    X[:50, 1],\n",
    "    color= 'red',\n",
    "    marker= 'o',\n",
    "    label= 'setosa'\n",
    ")\n",
    "\n",
    "plt.scatter(\n",
    "    X[50:100, 0],\n",
    "    X[50:100, 1],\n",
    "    color= 'blue',\n",
    "    marker= 'x',\n",
    "    label= 'versicolor'\n",
    ")\n",
    "\n",
    "plt.xlabel('sepal length [cm]')\n",
    "plt.ylabel('petal length [cm]')\n",
    "plt.legend(loc= 'upper left')\n",
    "plt.show()"
   ]
  },
  {
   "cell_type": "markdown",
   "metadata": {},
   "source": [
    "### IMPORTANT NOTE\n",
    "\n",
    "Please note that in this dataset (and specifically, in this two-dimensional feature subsapce), a linear decision boundary is sufficient to sepearte the two types of flowers we chose to use in this classifier. This makes our perceptron capable of being used since it's a linear classifier."
   ]
  },
  {
   "cell_type": "markdown",
   "metadata": {},
   "source": [
    "## Training Perceptron and Graphing Errors"
   ]
  },
  {
   "cell_type": "code",
   "execution_count": 25,
   "metadata": {},
   "outputs": [
    {
     "output_type": "display_data",
     "data": {
      "text/plain": "<Figure size 432x288 with 1 Axes>",
      "image/png": "[encoded data removed]"
     },
     "metadata": {
      "needs_background": "light"
     }
    }
   ],
   "source": [
    "# Creating model\n",
    "ppn = Perceptron(eta = 0.0001, n_iter = 10)\n",
    "\n",
    "# Fitting model\n",
    "ppn.fit(X, y)\n",
    "\n",
    "# Plotting erros\n",
    "plt.plot(\n",
    "    range(1, len(ppn.errors_) + 1),\n",
    "    ppn.errors_,\n",
    "    marker= 'o'\n",
    ")\n",
    "plt.xlabel('Epochs')\n",
    "plt.ylabel('Number of updates')\n",
    "plt.show()"
   ]
  },
  {
   "cell_type": "markdown",
   "metadata": {},
   "source": [
    "## Plotting the decision boundaries"
   ]
  },
  {
   "cell_type": "code",
   "execution_count": 23,
   "metadata": {},
   "outputs": [],
   "source": [
    "from matplotlib.colors import ListedColormap\n",
    "\n",
    "def plot_decision_regions(X, y, classifier, resolution=0.02):\n",
    "    \n",
    "    # setup marker generator and color map\n",
    "    markers = ('s', 'x', 'o', '^', 'v')\n",
    "    colors = ('red', 'blue', 'lightgreen', 'gray', 'cyan')\n",
    "    cmap = ListedColormap(colors[:len(np.unique(y))])\n",
    "\n",
    "    # plot decision surface\n",
    "    x1_min, x1_max = X[:, 0].min() - 1, X[:, 0].max() + 1\n",
    "    x2_min, x2_max = X[:, 1].min() - 1, X[:, 1].max() + 1\n",
    "    xx1, xx2 = np.meshgrid(\n",
    "        np.arange(x1_min, x1_max, resolution),\n",
    "        np.arange(x2_min, x2_max, resolution)\n",
    "    )\n",
    "    Z = classifier.predict(np.array([xx1.ravel(), xx2.ravel()]).T)\n",
    "    Z = Z.reshape(xx1.shape)\n",
    "    \n",
    "    plt.contourf(xx1, xx2, Z, alpha=0.3, cmap=cmap)\n",
    "    plt.xlim(xx1.min(), xx1.max())\n",
    "    plt.ylim(xx2.min(), xx2.max())\n",
    "\n",
    "    # plot class examples\n",
    "    for idx, cl in enumerate(np.unique(y)):\n",
    "        plt.scatter(\n",
    "            x=X[y == cl, 0],\n",
    "            y=X[y == cl, 1],\n",
    "            alpha=0.8,\n",
    "            c=colors[idx],\n",
    "            marker=markers[idx],\n",
    "            label=cl,\n",
    "            edgecolor='black'\n",
    "        )\n",
    "    "
   ]
  },
  {
   "cell_type": "code",
   "execution_count": 26,
   "metadata": {},
   "outputs": [
    {
     "output_type": "display_data",
     "data": {
      "text/plain": "<Figure size 432x288 with 1 Axes>",
      "image/png": "[encoded data removed]"
     },
     "metadata": {
      "needs_background": "light"
     }
    }
   ],
   "source": [
    "plot_decision_regions(X, y, classifier = ppn)\n",
    "plt.xlabel('sepal length [cm]')\n",
    "plt.ylabel('[etal length [cm]')\n",
    "plt.legend(loc='upper left')\n",
    "plt.show()"
   ]
  },
  {
   "cell_type": "code",
   "execution_count": null,
   "metadata": {},
   "outputs": [],
   "source": []
  }
 ],
 "metadata": {
  "language_info": {
   "codemirror_mode": {
    "name": "ipython",
    "version": 3
   },
   "file_extension": ".py",
   "mimetype": "text/x-python",
   "name": "python",
   "nbconvert_exporter": "python",
   "pygments_lexer": "ipython3",
   "version": "3.7.4-final"
  },
  "orig_nbformat": 2,
  "kernelspec": {
   "name": "python37464bit7ce9bcd6e9604f49a75ac00b61501ba1",
   "display_name": "Python 3.7.4 64-bit"
  }
 },
 "nbformat": 4,
 "nbformat_minor": 2
}