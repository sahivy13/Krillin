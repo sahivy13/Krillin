{
 "cells": [
  {
   "cell_type": "markdown",
   "metadata": {},
   "source": [
    "# Time Measures for Function testing ( A.K.A. Metrics for better programming =P )"
   ]
  },
  {
   "cell_type": "markdown",
   "metadata": {},
   "source": [
    "## TQDM\n",
    "\n",
    "- **TQDM** means “progress” in Arabic (taqadum, تقدّم) and is an abbreviation for “I love you so much” in Spanish (**Te Quiero DeMasiado**)."
   ]
  },
  {
   "cell_type": "code",
   "execution_count": 1,
   "metadata": {},
   "outputs": [],
   "source": [
    "# (MAIN CONCEPT OF HOW IT WORKS)\n",
    "\n",
    "# for i in range(1000):   # This doesn't show the time it took\n",
    "#     # do stuff\n",
    "    \n",
    "# from tqdm import tqdm\n",
    "\n",
    "# for i in tqdm(range(1000)):  # This does show the time it took\n",
    "#     # do stuff"
   ]
  },
  {
   "cell_type": "markdown",
   "metadata": {},
   "source": [
    "### Example of TQDM"
   ]
  },
  {
   "cell_type": "code",
   "execution_count": 4,
   "metadata": {},
   "outputs": [
    {
     "name": "stdout",
     "output_type": "stream",
     "text": [
      "[0, 1, 2, 3, 4] [4995, 4996, 4997, 4998, 4999]\n"
     ]
    }
   ],
   "source": [
    "from tqdm import tqdm\n",
    "import random\n",
    "\n",
    "a = [x for x in range(5000)]\n",
    "\n",
    "random.shuffle(a)\n",
    "\n",
    "for i in range(len(a)):\n",
    "    for j in range(len(a) - i - 1):\n",
    "        if a[j] > a[j+1]:\n",
    "            a[j], a[j+1] = a[j+1], a[j]\n",
    "\n",
    "print(a[:5], a[-5:])"
   ]
  },
  {
   "cell_type": "code",
   "execution_count": 5,
   "metadata": {},
   "outputs": [
    {
     "name": "stderr",
     "output_type": "stream",
     "text": [
      "100%|██████████| 5000/5000 [00:05<00:00, 861.39it/s] \n"
     ]
    },
    {
     "name": "stdout",
     "output_type": "stream",
     "text": [
      "[0, 1, 2, 3, 4] [4995, 4996, 4997, 4998, 4999]\n"
     ]
    }
   ],
   "source": [
    "a = [x for x in range(5000)]\n",
    "\n",
    "random.shuffle(a)\n",
    "\n",
    "for i in tqdm(range(len(a))):\n",
    "    for j in range(len(a) - i - 1):\n",
    "        if a[j] > a[j+1]:\n",
    "            a[j], a[j+1] = a[j+1], a[j]\n",
    "\n",
    "print(a[:5], a[-5:])"
   ]
  },
  {
   "cell_type": "code",
   "execution_count": null,
   "metadata": {},
   "outputs": [],
   "source": []
  }
 ],
 "metadata": {
  "kernelspec": {
   "display_name": "Python 3",
   "language": "python",
   "name": "python3"
  },
  "language_info": {
   "codemirror_mode": {
    "name": "ipython",
    "version": 3
   },
   "file_extension": ".py",
   "mimetype": "text/x-python",
   "name": "python",
   "nbconvert_exporter": "python",
   "pygments_lexer": "ipython3",
   "version": "3.7.4"
  }
 },
 "nbformat": 4,
 "nbformat_minor": 2
}
