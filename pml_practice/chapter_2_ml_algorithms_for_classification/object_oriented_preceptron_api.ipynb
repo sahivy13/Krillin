{
 "cells": [
  {
   "cell_type": "markdown",
   "metadata": {},
   "source": [
    "# Object-Oriented Preceptron API"
   ]
  },
  {
   "cell_type": "code",
   "execution_count": 1,
   "metadata": {},
   "outputs": [],
   "source": [
    "import numpy as np"
   ]
  },
  {
   "cell_type": "markdown",
   "metadata": {},
   "source": [
    "## Creating Perceptron classifier (class)\n",
    "\n",
    "### Overall Parameters and Attributes\n",
    "\n",
    "#### Parameters\n",
    "\n",
    "- eta: float\n",
    "    - Learning rate (between 0.0 and 1.0)\n",
    "- n_iter: int\n",
    "    - Passes over the training dataset. (a.k.a epochs)\n",
    "- random_state: int\n",
    "    - Random number generator seed for random weight initialization.\n",
    "\n",
    "#### Attributes\n",
    "\n",
    "- w_: 1d-array\n",
    "    - Weights after fitting.\n",
    "- errors_: list\n",
    "    - Number of misclassifications (updates) in each epoch.\n",
    "\n",
    "### Fit method\n",
    "\n",
    "#### Parameters\n",
    "\n",
    "- X: Training vectors, where n_examples is the number of examples and n_features is the number of features.\n",
    "    - {array-like}\n",
    "    - shape = [n_examples, n_features]\n",
    "- y: Target values.\n",
    "    - array-like\n",
    "    - shape = n_examples\n",
    "\n",
    "#### Returns\n",
    "\n",
    "- self: object\n"
   ]
  },
  {
   "cell_type": "code",
   "execution_count": 4,
   "metadata": {},
   "outputs": [],
   "source": [
    "class Preceptron(object):\n",
    "\n",
    "    def __init__(self, eta = 0.01, n_iter = 50, random_state = 1):\n",
    "        self.eta = eta\n",
    "        self.n_iter = n_iter\n",
    "        self.random_state = random_state\n",
    "    \n",
    "    def fit(self, X, y):\n",
    "        rgen = np.random.RandomState(self.random_state)\n",
    "        self.w_ = rgen.normal(\n",
    "            loc = 0.0,\n",
    "            scale = 0.01,\n",
    "            size = 1 + X.shape[1]\n",
    "        )\n",
    "        self.errors_ = []\n",
    "\n",
    "        for _ in range(self.n_iter):\n",
    "            errors = 0\n",
    "            for xi, target in zip(X, y):\n",
    "                update = self.eta * (target - self.predict(xi))\n",
    "                self.w_[1:] += update * xi\n",
    "                self.w_[0] += update               #This is the theta, or bias unit (a.k.a. threshold)\n",
    "                errors += int(update != 0.0)\n",
    "            self.errors_.append(errors)\n",
    "        return self\n",
    "    \n",
    "    def net_input(self, X):\n",
    "        # Calculates net input\n",
    "        return np.dot(X, self.w_[1:0] + self.w_[0])\n",
    "\n",
    "    def predict(self, X):\n",
    "        # Returns class label after unit step\n",
    "        return np.where(self.net_input(X) >= 0.0, 1, -1)\n",
    "\n",
    "        "
   ]
  },
  {
   "cell_type": "code",
   "execution_count": null,
   "metadata": {},
   "outputs": [],
   "source": []
  }
 ],
 "metadata": {
  "language_info": {
   "codemirror_mode": {
    "name": "ipython",
    "version": 3
   },
   "file_extension": ".py",
   "mimetype": "text/x-python",
   "name": "python",
   "nbconvert_exporter": "python",
   "pygments_lexer": "ipython3",
   "version": "3.7.4-final"
  },
  "orig_nbformat": 2,
  "kernelspec": {
   "name": "python37464bit7ce9bcd6e9604f49a75ac00b61501ba1",
   "display_name": "Python 3.7.4 64-bit"
  }
 },
 "nbformat": 4,
 "nbformat_minor": 2
}